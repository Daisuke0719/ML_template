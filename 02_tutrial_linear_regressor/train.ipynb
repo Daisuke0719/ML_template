{
 "cells": [
  {
   "cell_type": "code",
   "execution_count": 15,
   "metadata": {},
   "outputs": [],
   "source": [
    "def train(alpha,l1_ratio):\n",
    "    import pandas as pd\n",
    "    import numpy as np\n",
    "    import warnings\n",
    "    from sklearn.model_selection import train_test_split\n",
    "    from sklearn.metrics import mean_squared_error, mean_absolute_error, r2_score\n",
    "    from sklearn.linear_model import ElasticNet\n",
    "    from urllib.parse import urlparse\n",
    "    import mlflow\n",
    "    from mlflow.models.signature import infer_signature #TODOこのモジュールの役割を調べる\n",
    "    import mlflow.sklearn #TODOこのモジュールの役割を調べる\n",
    "\n",
    "    import logging #TODO ログの使い方を調べる\n",
    "\n",
    "    logging.basicConfig(level=logging.WARN)\n",
    "    logger = logging.getLogger(__name__)\n",
    "\n",
    "    def eval_metrics(actual, pred):\n",
    "        rmse = mean_squared_error(actual, pred)\n",
    "        mae = mean_absolute_error(actual, pred)\n",
    "        r2 = r2_score(actual,pred)\n",
    "        return rmse, mae, r2\n",
    "\n",
    "    warnings.filterwarnings(\"ignore\")\n",
    "    np.random.seed(40)\n",
    "\n",
    "    # Read the wine-quality csv file from the URL\n",
    "    csv_url = (\n",
    "        \"https://raw.githubusercontent.com/mlflow/mlflow/master/tests/datasets/winequality-red.csv\"\n",
    "    )\n",
    "    try:\n",
    "        data = pd.read_csv(csv_url,sep=\";\")\n",
    "    except Exception as e:\n",
    "        logger.exception(\n",
    "            \"Unable to download training & test CSV, check your internet connection. Error: %s\",e\n",
    "        )\n",
    "\n",
    "    train, test = train_test_split(data)\n",
    "    train_x = train.drop([\"quality\"],axis=1)\n",
    "    test_x = test.drop([\"quality\"],axis=1)\n",
    "    train_y = train[[\"quality\"]]\n",
    "    test_y = test[[\"quality\"]]\n",
    "    # set default values if no alpha is provided\n",
    "    if float(alpha) is None:\n",
    "        alpha = 0.5\n",
    "    else:\n",
    "        alpha = float(alpha)\n",
    "\n",
    "    # set default values if no l1_ratio is provided\n",
    "\n",
    "    if float(l1_ratio) is None:\n",
    "        l1_ratio = 0.5\n",
    "    else:\n",
    "        l1_ratio = float(l1_ratio)\n",
    "        \n",
    "    with mlflow.start_run():    \n",
    "        lr = ElasticNet(alpha=alpha, l1_ratio=l1_ratio, random_state=42)\n",
    "        lr.fit(train_x,train_y)\n",
    "\n",
    "        predicted_qualities = lr.predict(test_x)\n",
    "        (rmse, mae, r2) = eval_metrics(test_y,predicted_qualities)\n",
    "        \n",
    "        print(f\"Elasticnet model (alpha={alpha:.3f}, l1_ratio={l1_ratio:.3f}):\" )\n",
    "        print(f\"  RMSE: {rmse:.2f}\")\n",
    "        print(f\"  MAE: {mae:.2f}\")\n",
    "        print(f\"  R2: {r2:.2f}\")\n",
    "        \n",
    "        #infer model signature\n",
    "        predictions = lr.predict(train_x)\n",
    "        signature = infer_signature(train_x,predictions)\n",
    "        \n",
    "        #log model params\n",
    "        mlflow.log_param(\"alpha\",alpha)\n",
    "        mlflow.log_param(\"l1_ratio\",l1_ratio)\n",
    "        #log model metrics\n",
    "        mlflow.log_metric(\"rmse\",rmse)\n",
    "        mlflow.log_metric(\"r2\",r2)\n",
    "        mlflow.log_metric(\"mae\",mae)\n",
    "        \n",
    "        #log model\n",
    "\n",
    "\n",
    "        mlflow.sklearn.log_model(lr,\"model\",signature=signature)"
   ]
  },
  {
   "cell_type": "code",
   "execution_count": 18,
   "metadata": {},
   "outputs": [],
   "source": [
    "import pandas as pd\n",
    "import numpy as np\n",
    "import warnings\n",
    "from sklearn.model_selection import train_test_split\n",
    "from sklearn.metrics import mean_squared_error, mean_absolute_error, r2_score\n",
    "from sklearn.linear_model import ElasticNet\n",
    "from urllib.parse import urlparse\n",
    "import mlflow\n",
    "from mlflow.models.signature import infer_signature #TODOこのモジュールの役割を調べる\n",
    "import mlflow.sklearn #TODOこのモジュールの役割を調べる\n",
    "\n",
    "import logging #TODO ログの使い方を調べる\n",
    "\n",
    "logging.basicConfig(level=logging.WARN)\n",
    "logger = logging.getLogger(__name__)\n",
    "\n",
    "def eval_metrics(actual, pred):\n",
    "    rmse = mean_squared_error(actual, pred)\n",
    "    mae = mean_absolute_error(actual, pred)\n",
    "    r2 = r2_score(actual,pred)\n",
    "    return rmse, mae, r2\n",
    "\n",
    "warnings.filterwarnings(\"ignore\")\n",
    "np.random.seed(40)"
   ]
  },
  {
   "cell_type": "code",
   "execution_count": 19,
   "metadata": {},
   "outputs": [],
   "source": [
    "def train_beta(alpha,l1_ratio):\n",
    "\n",
    "\n",
    "    # Read the wine-quality csv file from the URL\n",
    "    csv_url = (\n",
    "        \"https://raw.githubusercontent.com/mlflow/mlflow/master/tests/datasets/winequality-red.csv\"\n",
    "    )\n",
    "    try:\n",
    "        data = pd.read_csv(csv_url,sep=\";\")\n",
    "    except Exception as e:\n",
    "        logger.exception(\n",
    "            \"Unable to download training & test CSV, check your internet connection. Error: %s\",e\n",
    "        )\n",
    "\n",
    "    train, test = train_test_split(data)\n",
    "    train_x = train.drop([\"quality\"],axis=1)\n",
    "    test_x = test.drop([\"quality\"],axis=1)\n",
    "    train_y = train[[\"quality\"]]\n",
    "    test_y = test[[\"quality\"]]\n",
    "    # set default values if no alpha is provided\n",
    "    if float(alpha) is None:\n",
    "        alpha = 0.5\n",
    "    else:\n",
    "        alpha = float(alpha)\n",
    "\n",
    "    # set default values if no l1_ratio is provided\n",
    "\n",
    "    if float(l1_ratio) is None:\n",
    "        l1_ratio = 0.5\n",
    "    else:\n",
    "        l1_ratio = float(l1_ratio)\n",
    "        \n",
    "    with mlflow.start_run():    \n",
    "        lr = ElasticNet(alpha=alpha, l1_ratio=l1_ratio, random_state=42)\n",
    "        lr.fit(train_x,train_y)\n",
    "\n",
    "        predicted_qualities = lr.predict(test_x)\n",
    "        (rmse, mae, r2) = eval_metrics(test_y,predicted_qualities)\n",
    "        \n",
    "        print(f\"Elasticnet model (alpha={alpha:.3f}, l1_ratio={l1_ratio:.3f}):\" )\n",
    "        print(f\"  RMSE: {rmse:.2f}\")\n",
    "        print(f\"  MAE: {mae:.2f}\")\n",
    "        print(f\"  R2: {r2:.2f}\")\n",
    "        \n",
    "        #infer model signature\n",
    "        predictions = lr.predict(train_x)\n",
    "        signature = infer_signature(train_x,predictions)\n",
    "        \n",
    "        #log model params\n",
    "        mlflow.log_param(\"alpha\",alpha)\n",
    "        mlflow.log_param(\"l1_ratio\",l1_ratio)\n",
    "        #log model metrics\n",
    "        mlflow.log_metric(\"rmse\",rmse)\n",
    "        mlflow.log_metric(\"r2\",r2)\n",
    "        mlflow.log_metric(\"mae\",mae)\n",
    "        \n",
    "        #log model\n",
    "        mlflow.sklearn.log_model(lr,\"model\",signature=signature)"
   ]
  },
  {
   "cell_type": "code",
   "execution_count": 16,
   "metadata": {},
   "outputs": [
    {
     "name": "stdout",
     "output_type": "stream",
     "text": [
      "Elasticnet model (alpha=0.500, l1_ratio=0.500):\n",
      "  RMSE: 0.63\n",
      "  MAE: 0.63\n",
      "  R2: 0.11\n"
     ]
    }
   ],
   "source": [
    "train(0.5,0.5)"
   ]
  },
  {
   "cell_type": "code",
   "execution_count": 17,
   "metadata": {},
   "outputs": [
    {
     "name": "stdout",
     "output_type": "stream",
     "text": [
      "Elasticnet model (alpha=0.200, l1_ratio=0.200):\n",
      "  RMSE: 0.54\n",
      "  MAE: 0.56\n",
      "  R2: 0.24\n"
     ]
    }
   ],
   "source": [
    "train(0.2,0.2)"
   ]
  },
  {
   "cell_type": "code",
   "execution_count": 20,
   "metadata": {},
   "outputs": [
    {
     "name": "stdout",
     "output_type": "stream",
     "text": [
      "Elasticnet model (alpha=0.100, l1_ratio=0.500):\n",
      "  RMSE: 0.53\n",
      "  MAE: 0.56\n",
      "  R2: 0.24\n"
     ]
    }
   ],
   "source": [
    "train_beta(0.1,0.5)"
   ]
  },
  {
   "cell_type": "code",
   "execution_count": null,
   "metadata": {},
   "outputs": [],
   "source": []
  }
 ],
 "metadata": {
  "kernelspec": {
   "display_name": "env",
   "language": "python",
   "name": "python3"
  },
  "language_info": {
   "codemirror_mode": {
    "name": "ipython",
    "version": 3
   },
   "file_extension": ".py",
   "mimetype": "text/x-python",
   "name": "python",
   "nbconvert_exporter": "python",
   "pygments_lexer": "ipython3",
   "version": "3.9.6"
  },
  "orig_nbformat": 4
 },
 "nbformat": 4,
 "nbformat_minor": 2
}
